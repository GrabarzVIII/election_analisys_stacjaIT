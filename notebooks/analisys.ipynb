{
 "cells": [
  {
   "cell_type": "code",
   "execution_count": 1,
   "id": "d32c36bf",
   "metadata": {},
   "outputs": [],
   "source": [
    "import pandas as pd\n",
    "import numpy as np\n",
    "import matplotlib.pyplot as plt\n",
    "from utils.const import DTYPES_DICT,CANDIDATES,NUM_COLUMNS  \n",
    "from utils.func import prepare_results_data2020, prepare_trusttee_presence_data2020, prepare_gus_population\n",
    "\n",
    "pd.set_option('display.max_columns', 50)"
   ]
  },
  {
   "cell_type": "markdown",
   "id": "2e15bece",
   "metadata": {},
   "source": [
    "#### election results loaded"
   ]
  },
  {
   "cell_type": "code",
   "execution_count": 2,
   "id": "a0b4a0e7",
   "metadata": {},
   "outputs": [],
   "source": [
    "election_1_df = prepare_results_data2020(r\"..\\data\\wybory_2020\\wyniki1tura.csv\")\n",
    "\n",
    "election_2_df = prepare_results_data2020(r\"..\\data\\wybory_2020\\wyniki2tura.csv\")\n",
    "\n",
    "election_1_df['turn'] = '1'\n",
    "election_2_df['turn'] = '2'\n",
    "\n",
    "results_2020 = pd.concat([election_1_df, election_2_df], ignore_index=True) "
   ]
  },
  {
   "cell_type": "code",
   "execution_count": 3,
   "id": "cca2ddf0",
   "metadata": {},
   "outputs": [
    {
     "name": "stdout",
     "output_type": "stream",
     "text": [
      "<class 'pandas.core.frame.DataFrame'>\n",
      "RangeIndex: 25433 entries, 0 to 25432\n",
      "Data columns (total 45 columns):\n",
      " #   Column                                                                                         Non-Null Count  Dtype \n",
      "---  ------                                                                                         --------------  ----- \n",
      " 0   Symbol kontrolny                                                                               25433 non-null  object\n",
      " 1   Nr OKW                                                                                         25433 non-null  object\n",
      " 2   Kod TERYT                                                                                      25433 non-null  object\n",
      " 3   Typ gminy                                                                                      25433 non-null  object\n",
      " 4   Numer obwodu                                                                                   25433 non-null  object\n",
      " 5   Typ obszaru                                                                                    25433 non-null  object\n",
      " 6   Typ obwodu                                                                                     25433 non-null  object\n",
      " 7   Siedziba                                                                                       25433 non-null  object\n",
      " 8   Gmina                                                                                          25433 non-null  object\n",
      " 9   Powiat                                                                                         25433 non-null  object\n",
      " 10  Województwo                                                                                    25433 non-null  object\n",
      " 11  Komisje obwodowe otrzymały kart do głosowania                                                  25433 non-null  int64 \n",
      " 12  Liczba wyborców uprawnionych do głosowania                                                     25433 non-null  int64 \n",
      " 13  Nie wykorzystano kart do głosowania                                                            25433 non-null  int64 \n",
      " 14  Liczba wyborców, którym wydano karty do głosowania                                             25433 non-null  int64 \n",
      " 15  Liczba wyborców głosujących przez pełnomocnika                                                 25433 non-null  int64 \n",
      " 16  Liczba wyborców głosujących na podstawie zaświadczenia o prawie do głosowania                  25433 non-null  int64 \n",
      " 17  Liczba wyborców, którym wysłano pakiety wyborcze                                               25433 non-null  int64 \n",
      " 18  Liczba otrzymanych kopert zwrotnych                                                            25433 non-null  int64 \n",
      " 19  Liczba kopert zwrotnych, w których nie było oświadczenia o osobistym i tajnym oddaniu głosu    25433 non-null  int64 \n",
      " 20  Liczba kopert zwrotnych, w których oświadczenie nie było podpisane                             25433 non-null  int64 \n",
      " 21  Liczba kopert zwrotnych, w których nie było koperty na kartę do głosowania                     25433 non-null  int64 \n",
      " 22  Liczba kopert zwrotnych, w których znajdowała się niezaklejona koperta na kartę do głosowania  25433 non-null  int64 \n",
      " 23  Liczba kopert na kartę do głosowania wrzuconych do urny                                        25433 non-null  int64 \n",
      " 24  Liczba kart wyjętych z urny                                                                    25433 non-null  int64 \n",
      " 25  W tym liczba kart wyjętych z kopert na kartę do głosowania                                     25433 non-null  int64 \n",
      " 26  Liczba kart nieważnych                                                                         25433 non-null  int64 \n",
      " 27  Liczba kart ważnych                                                                            25433 non-null  int64 \n",
      " 28  Liczba głosów nieważnych                                                                       25433 non-null  int64 \n",
      " 29  W tym z powodu postawienia znaku „X” obok nazwiska dwóch lub większej liczby kandydatów        25433 non-null  object\n",
      " 30  W tym z powodu niepostawienia znaku „X” obok nazwiska żadnego kandydata                        25433 non-null  object\n",
      " 31  W tym z powodu postawienia znaku „X” wyłącznie obok skreślonego nazwiska kandydata             25433 non-null  object\n",
      " 32  Liczba głosów ważnych oddanych łącznie na wszystkich kandydatów                                25433 non-null  int64 \n",
      " 33  Robert BIEDROŃ                                                                                 25433 non-null  int64 \n",
      " 34  Krzysztof BOSAK                                                                                25433 non-null  int64 \n",
      " 35  Andrzej Sebastian DUDA                                                                         25433 non-null  int64 \n",
      " 36  Szymon Franciszek HOŁOWNIA                                                                     25433 non-null  int64 \n",
      " 37  Marek JAKUBIAK                                                                                 25433 non-null  int64 \n",
      " 38  Władysław Marcin KOSINIAK-KAMYSZ                                                               25433 non-null  int64 \n",
      " 39  Mirosław Mariusz PIOTROWSKI                                                                    25433 non-null  int64 \n",
      " 40  Paweł Jan TANAJNO                                                                              25433 non-null  int64 \n",
      " 41  Rafał Kazimierz TRZASKOWSKI                                                                    25433 non-null  int64 \n",
      " 42  Waldemar Włodzimierz WITKOWSKI                                                                 25433 non-null  int64 \n",
      " 43  Stanisław Józef ŻÓŁTEK                                                                         25433 non-null  int64 \n",
      " 44  turn                                                                                           25433 non-null  object\n",
      "dtypes: int64(30), object(15)\n",
      "memory usage: 8.7+ MB\n"
     ]
    }
   ],
   "source": [
    "election_1_df.info()"
   ]
  },
  {
   "cell_type": "code",
   "execution_count": 4,
   "id": "21640487",
   "metadata": {},
   "outputs": [
    {
     "name": "stdout",
     "output_type": "stream",
     "text": [
      "<class 'pandas.core.frame.DataFrame'>\n",
      "RangeIndex: 25433 entries, 0 to 25432\n",
      "Data columns (total 36 columns):\n",
      " #   Column                                                                                         Non-Null Count  Dtype \n",
      "---  ------                                                                                         --------------  ----- \n",
      " 0   Symbol kontrolny                                                                               25433 non-null  object\n",
      " 1   Nr OKW                                                                                         25433 non-null  object\n",
      " 2   Kod TERYT                                                                                      25433 non-null  object\n",
      " 3   Typ gminy                                                                                      25433 non-null  object\n",
      " 4   Numer obwodu                                                                                   25433 non-null  object\n",
      " 5   Typ obszaru                                                                                    25433 non-null  object\n",
      " 6   Typ obwodu                                                                                     25433 non-null  object\n",
      " 7   Siedziba                                                                                       25433 non-null  object\n",
      " 8   Gmina                                                                                          25433 non-null  object\n",
      " 9   Powiat                                                                                         25433 non-null  object\n",
      " 10  Województwo                                                                                    25433 non-null  object\n",
      " 11  Komisje obwodowe otrzymały kart do głosowania                                                  25433 non-null  int64 \n",
      " 12  Liczba wyborców uprawnionych do głosowania                                                     25433 non-null  int64 \n",
      " 13  Nie wykorzystano kart do głosowania                                                            25433 non-null  int64 \n",
      " 14  Liczba wyborców, którym wydano karty do głosowania                                             25433 non-null  int64 \n",
      " 15  Liczba wyborców głosujących przez pełnomocnika                                                 25433 non-null  int64 \n",
      " 16  Liczba wyborców głosujących na podstawie zaświadczenia o prawie do głosowania                  25433 non-null  int64 \n",
      " 17  Liczba wyborców, którym wysłano pakiety wyborcze                                               25433 non-null  int64 \n",
      " 18  Liczba otrzymanych kopert zwrotnych                                                            25433 non-null  int64 \n",
      " 19  Liczba kopert zwrotnych, w których nie było oświadczenia o osobistym i tajnym oddaniu głosu    25433 non-null  int64 \n",
      " 20  Liczba kopert zwrotnych, w których oświadczenie nie było podpisane                             25433 non-null  int64 \n",
      " 21  Liczba kopert zwrotnych, w których nie było koperty na kartę do głosowania                     25433 non-null  int64 \n",
      " 22  Liczba kopert zwrotnych, w których znajdowała się niezaklejona koperta na kartę do głosowania  25433 non-null  int64 \n",
      " 23  Liczba kopert na kartę do głosowania wrzuconych do urny                                        25433 non-null  int64 \n",
      " 24  Liczba kart wyjętych z urny                                                                    25433 non-null  int64 \n",
      " 25  W tym liczba kart wyjętych z kopert na kartę do głosowania                                     25433 non-null  int64 \n",
      " 26  Liczba kart nieważnych                                                                         25433 non-null  int64 \n",
      " 27  Liczba kart ważnych                                                                            25433 non-null  int64 \n",
      " 28  Liczba głosów nieważnych                                                                       25433 non-null  int64 \n",
      " 29  W tym z powodu postawienia znaku „X” obok nazwiska dwóch lub większej liczby kandydatów        25433 non-null  object\n",
      " 30  W tym z powodu niepostawienia znaku „X” obok nazwiska żadnego kandydata                        25433 non-null  object\n",
      " 31  W tym z powodu postawienia znaku „X” wyłącznie obok skreślonego nazwiska kandydata             0 non-null      object\n",
      " 32  Liczba głosów ważnych oddanych łącznie na wszystkich kandydatów                                25433 non-null  int64 \n",
      " 33  Andrzej Sebastian DUDA                                                                         25433 non-null  int64 \n",
      " 34  Rafał Kazimierz TRZASKOWSKI                                                                    25433 non-null  int64 \n",
      " 35  turn                                                                                           25433 non-null  object\n",
      "dtypes: int64(21), object(15)\n",
      "memory usage: 7.0+ MB\n"
     ]
    }
   ],
   "source": [
    "election_2_df.info()"
   ]
  },
  {
   "cell_type": "markdown",
   "id": "953bd29c",
   "metadata": {},
   "source": [
    "#### trust tee analisys"
   ]
  },
  {
   "cell_type": "code",
   "execution_count": 5,
   "id": "b5729e19",
   "metadata": {},
   "outputs": [],
   "source": [
    "trustree1 = prepare_trusttee_presence_data2020(r'..\\data\\wybory_2020\\maz_zaufania_1_tura.xlsx')\n",
    "trustree2 = prepare_trusttee_presence_data2020(r'..\\data\\wybory_2020\\maz_zaufania.xlsx')\n",
    "\n",
    "trustree1['turn'] = '1'\n",
    "trustree2['turn'] = '2'"
   ]
  },
  {
   "cell_type": "code",
   "execution_count": 6,
   "id": "415d7739",
   "metadata": {},
   "outputs": [
    {
     "name": "stdout",
     "output_type": "stream",
     "text": [
      "<class 'pandas.core.frame.DataFrame'>\n",
      "RangeIndex: 27227 entries, 0 to 27226\n",
      "Data columns (total 10 columns):\n",
      " #   Column               Non-Null Count  Dtype \n",
      "---  ------               --------------  ----- \n",
      " 0   Kod TERYT            27227 non-null  object\n",
      " 1   Numer obwodu         27227 non-null  object\n",
      " 2   Typ obwodu           27227 non-null  object\n",
      " 3   Siedziba             27227 non-null  object\n",
      " 4   Gmina                27227 non-null  object\n",
      " 5   Powiat               27227 non-null  object\n",
      " 6   Województwo          27227 non-null  object\n",
      " 7   maz_zaufania_obezny  27227 non-null  int64 \n",
      " 8   czy_maz              27227 non-null  int64 \n",
      " 9   turn                 27227 non-null  object\n",
      "dtypes: int64(2), object(8)\n",
      "memory usage: 2.1+ MB\n"
     ]
    }
   ],
   "source": [
    "trustree1.info()"
   ]
  },
  {
   "cell_type": "code",
   "execution_count": 7,
   "id": "72ee0926",
   "metadata": {},
   "outputs": [
    {
     "name": "stdout",
     "output_type": "stream",
     "text": [
      "<class 'pandas.core.frame.DataFrame'>\n",
      "RangeIndex: 27229 entries, 0 to 27228\n",
      "Data columns (total 10 columns):\n",
      " #   Column               Non-Null Count  Dtype \n",
      "---  ------               --------------  ----- \n",
      " 0   Kod TERYT            27229 non-null  object\n",
      " 1   Numer obwodu         27229 non-null  object\n",
      " 2   Typ obwodu           27229 non-null  object\n",
      " 3   Siedziba             27229 non-null  object\n",
      " 4   Gmina                27229 non-null  object\n",
      " 5   Powiat               27229 non-null  object\n",
      " 6   Województwo          27229 non-null  object\n",
      " 7   maz_zaufania_obezny  27229 non-null  int64 \n",
      " 8   czy_maz              27229 non-null  int64 \n",
      " 9   turn                 27229 non-null  object\n",
      "dtypes: int64(2), object(8)\n",
      "memory usage: 2.1+ MB\n"
     ]
    }
   ],
   "source": [
    "trustree2.info()"
   ]
  },
  {
   "cell_type": "code",
   "execution_count": 8,
   "id": "57381ae3",
   "metadata": {},
   "outputs": [],
   "source": [
    "trustree_presance_2020 = pd.concat([trustree1,trustree2],ignore_index=True)"
   ]
  },
  {
   "cell_type": "markdown",
   "id": "89b0441a",
   "metadata": {},
   "source": [
    "#### GUS population dataset"
   ]
  },
  {
   "cell_type": "code",
   "execution_count": 9,
   "id": "faeacf98",
   "metadata": {},
   "outputs": [
    {
     "name": "stderr",
     "output_type": "stream",
     "text": [
      "<>:1: SyntaxWarning: invalid escape sequence '\\d'\n",
      "<>:1: SyntaxWarning: invalid escape sequence '\\d'\n",
      "C:\\Users\\kgrab\\AppData\\Local\\Temp\\ipykernel_13448\\861314417.py:1: SyntaxWarning: invalid escape sequence '\\d'\n",
      "  gus_population = prepare_gus_population('..\\data\\wybory_2020\\gus_ludnosc_2020.xlsx')\n"
     ]
    },
    {
     "data": {
      "text/html": [
       "<div>\n",
       "<style scoped>\n",
       "    .dataframe tbody tr th:only-of-type {\n",
       "        vertical-align: middle;\n",
       "    }\n",
       "\n",
       "    .dataframe tbody tr th {\n",
       "        vertical-align: top;\n",
       "    }\n",
       "\n",
       "    .dataframe thead th {\n",
       "        text-align: right;\n",
       "    }\n",
       "</style>\n",
       "<table border=\"1\" class=\"dataframe\">\n",
       "  <thead>\n",
       "    <tr style=\"text-align: right;\">\n",
       "      <th></th>\n",
       "      <th>TERYT</th>\n",
       "      <th>area</th>\n",
       "      <th>population</th>\n",
       "      <th>density</th>\n",
       "    </tr>\n",
       "  </thead>\n",
       "  <tbody>\n",
       "    <tr>\n",
       "      <th>0</th>\n",
       "      <td>020101</td>\n",
       "      <td>24.0</td>\n",
       "      <td>38872.0</td>\n",
       "      <td>NaN</td>\n",
       "    </tr>\n",
       "    <tr>\n",
       "      <th>1</th>\n",
       "      <td>020102</td>\n",
       "      <td>289.0</td>\n",
       "      <td>14699.0</td>\n",
       "      <td>NaN</td>\n",
       "    </tr>\n",
       "    <tr>\n",
       "      <th>2</th>\n",
       "      <td>020103</td>\n",
       "      <td>268.0</td>\n",
       "      <td>5337.0</td>\n",
       "      <td>NaN</td>\n",
       "    </tr>\n",
       "    <tr>\n",
       "      <th>3</th>\n",
       "      <td>020105</td>\n",
       "      <td>437.0</td>\n",
       "      <td>7349.0</td>\n",
       "      <td>NaN</td>\n",
       "    </tr>\n",
       "    <tr>\n",
       "      <th>4</th>\n",
       "      <td>020106</td>\n",
       "      <td>110.0</td>\n",
       "      <td>8632.0</td>\n",
       "      <td>NaN</td>\n",
       "    </tr>\n",
       "    <tr>\n",
       "      <th>...</th>\n",
       "      <td>...</td>\n",
       "      <td>...</td>\n",
       "      <td>...</td>\n",
       "      <td>...</td>\n",
       "    </tr>\n",
       "    <tr>\n",
       "      <th>2490</th>\n",
       "      <td>321703</td>\n",
       "      <td>203.0</td>\n",
       "      <td>5402.0</td>\n",
       "      <td>NaN</td>\n",
       "    </tr>\n",
       "    <tr>\n",
       "      <th>2491</th>\n",
       "      <td>321704</td>\n",
       "      <td>250.0</td>\n",
       "      <td>4890.0</td>\n",
       "      <td>NaN</td>\n",
       "    </tr>\n",
       "    <tr>\n",
       "      <th>2492</th>\n",
       "      <td>326101</td>\n",
       "      <td>98.0</td>\n",
       "      <td>107048.0</td>\n",
       "      <td>NaN</td>\n",
       "    </tr>\n",
       "    <tr>\n",
       "      <th>2493</th>\n",
       "      <td>326201</td>\n",
       "      <td>301.0</td>\n",
       "      <td>401907.0</td>\n",
       "      <td>NaN</td>\n",
       "    </tr>\n",
       "    <tr>\n",
       "      <th>2494</th>\n",
       "      <td>326301</td>\n",
       "      <td>202.0</td>\n",
       "      <td>40888.0</td>\n",
       "      <td>NaN</td>\n",
       "    </tr>\n",
       "  </tbody>\n",
       "</table>\n",
       "<p>2495 rows × 4 columns</p>\n",
       "</div>"
      ],
      "text/plain": [
       "       TERYT   area  population  density\n",
       "0     020101   24.0     38872.0      NaN\n",
       "1     020102  289.0     14699.0      NaN\n",
       "2     020103  268.0      5337.0      NaN\n",
       "3     020105  437.0      7349.0      NaN\n",
       "4     020106  110.0      8632.0      NaN\n",
       "...      ...    ...         ...      ...\n",
       "2490  321703  203.0      5402.0      NaN\n",
       "2491  321704  250.0      4890.0      NaN\n",
       "2492  326101   98.0    107048.0      NaN\n",
       "2493  326201  301.0    401907.0      NaN\n",
       "2494  326301  202.0     40888.0      NaN\n",
       "\n",
       "[2495 rows x 4 columns]"
      ]
     },
     "execution_count": 9,
     "metadata": {},
     "output_type": "execute_result"
    }
   ],
   "source": [
    "gus_population = prepare_gus_population('..\\data\\wybory_2020\\gus_ludnosc_2020.xlsx')\n",
    "\n",
    "gus_population"
   ]
  },
  {
   "cell_type": "code",
   "execution_count": 10,
   "id": "bbe8bda8",
   "metadata": {},
   "outputs": [
    {
     "name": "stdout",
     "output_type": "stream",
     "text": [
      "<class 'pandas.core.frame.DataFrame'>\n",
      "RangeIndex: 2495 entries, 0 to 2494\n",
      "Data columns (total 4 columns):\n",
      " #   Column      Non-Null Count  Dtype  \n",
      "---  ------      --------------  -----  \n",
      " 0   TERYT       2495 non-null   object \n",
      " 1   area        2495 non-null   float64\n",
      " 2   population  2495 non-null   float64\n",
      " 3   density     0 non-null      float64\n",
      "dtypes: float64(3), object(1)\n",
      "memory usage: 78.1+ KB\n"
     ]
    }
   ],
   "source": [
    "gus_population.info()"
   ]
  },
  {
   "cell_type": "markdown",
   "id": "2f4d6868",
   "metadata": {},
   "source": [
    "#### merging data"
   ]
  },
  {
   "cell_type": "code",
   "execution_count": 14,
   "id": "62eafb96",
   "metadata": {},
   "outputs": [
    {
     "data": {
      "text/plain": [
       "(50866, 45)"
      ]
     },
     "execution_count": 14,
     "metadata": {},
     "output_type": "execute_result"
    }
   ],
   "source": [
    "results_2020.shape"
   ]
  },
  {
   "cell_type": "code",
   "execution_count": 15,
   "id": "45d0d0d5",
   "metadata": {},
   "outputs": [],
   "source": [
    "results_2020 = results_2020.merge(\n",
    "    trustree_presance_2020,\n",
    "    how='left',\n",
    "    on = ['Kod TERYT','Numer obwodu','turn']\n",
    ")"
   ]
  },
  {
   "cell_type": "code",
   "execution_count": 16,
   "id": "5992fefa",
   "metadata": {},
   "outputs": [
    {
     "data": {
      "text/plain": [
       "(50866, 52)"
      ]
     },
     "execution_count": 16,
     "metadata": {},
     "output_type": "execute_result"
    }
   ],
   "source": [
    "results_2020.shape"
   ]
  },
  {
   "cell_type": "code",
   "execution_count": null,
   "id": "ee96249b",
   "metadata": {},
   "outputs": [],
   "source": []
  }
 ],
 "metadata": {
  "kernelspec": {
   "display_name": "analisys_election",
   "language": "python",
   "name": "python3"
  },
  "language_info": {
   "codemirror_mode": {
    "name": "ipython",
    "version": 3
   },
   "file_extension": ".py",
   "mimetype": "text/x-python",
   "name": "python",
   "nbconvert_exporter": "python",
   "pygments_lexer": "ipython3",
   "version": "3.13.3"
  }
 },
 "nbformat": 4,
 "nbformat_minor": 5
}
