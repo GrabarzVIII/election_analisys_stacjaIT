{
 "cells": [
  {
   "cell_type": "code",
   "execution_count": 3,
   "id": "d32c36bf",
   "metadata": {},
   "outputs": [],
   "source": [
    "import pandas as pd\n",
    "import numpy as np\n",
    "import matplotlib.pyplot as plt\n",
    "from utils.const import DTYPES_DICT,CANDIDATES,NUM_COLUMNS  \n",
    "from utils.func import prepare_results_data2020, prepare_trusttee_presence_data2020\n",
    "\n",
    "pd.set_option('display.max_columns', 50)"
   ]
  },
  {
   "cell_type": "markdown",
   "id": "2e15bece",
   "metadata": {},
   "source": [
    "#### election results loaded"
   ]
  },
  {
   "cell_type": "code",
   "execution_count": 4,
   "id": "a0b4a0e7",
   "metadata": {},
   "outputs": [],
   "source": [
    "election_1_df = prepare_results_data2020(r\"..\\data\\wybory_2020\\wyniki1tura.csv\")\n",
    "\n",
    "election_2_df = prepare_results_data2020(r\"..\\data\\wybory_2020\\wyniki2tura.csv\")\n",
    "\n",
    "election_1_df['turn'] = '1'\n",
    "election_2_df['turn'] = '2'\n",
    "\n",
    "results_2020 = pd.concat([election_1_df, election_2_df], ignore_index=True) "
   ]
  },
  {
   "cell_type": "code",
   "execution_count": 5,
   "id": "cca2ddf0",
   "metadata": {},
   "outputs": [
    {
     "name": "stdout",
     "output_type": "stream",
     "text": [
      "<class 'pandas.core.frame.DataFrame'>\n",
      "RangeIndex: 25433 entries, 0 to 25432\n",
      "Data columns (total 45 columns):\n",
      " #   Column                                                                                         Non-Null Count  Dtype \n",
      "---  ------                                                                                         --------------  ----- \n",
      " 0   Symbol kontrolny                                                                               25433 non-null  object\n",
      " 1   Nr OKW                                                                                         25433 non-null  object\n",
      " 2   Kod TERYT                                                                                      25433 non-null  object\n",
      " 3   Typ gminy                                                                                      25433 non-null  object\n",
      " 4   Numer obwodu                                                                                   25433 non-null  object\n",
      " 5   Typ obszaru                                                                                    25433 non-null  object\n",
      " 6   Typ obwodu                                                                                     25433 non-null  object\n",
      " 7   Siedziba                                                                                       25433 non-null  object\n",
      " 8   Gmina                                                                                          25433 non-null  object\n",
      " 9   Powiat                                                                                         25433 non-null  object\n",
      " 10  Województwo                                                                                    25433 non-null  object\n",
      " 11  Komisje obwodowe otrzymały kart do głosowania                                                  25433 non-null  int64 \n",
      " 12  Liczba wyborców uprawnionych do głosowania                                                     25433 non-null  int64 \n",
      " 13  Nie wykorzystano kart do głosowania                                                            25433 non-null  int64 \n",
      " 14  Liczba wyborców, którym wydano karty do głosowania                                             25433 non-null  int64 \n",
      " 15  Liczba wyborców głosujących przez pełnomocnika                                                 25433 non-null  int64 \n",
      " 16  Liczba wyborców głosujących na podstawie zaświadczenia o prawie do głosowania                  25433 non-null  int64 \n",
      " 17  Liczba wyborców, którym wysłano pakiety wyborcze                                               25433 non-null  int64 \n",
      " 18  Liczba otrzymanych kopert zwrotnych                                                            25433 non-null  int64 \n",
      " 19  Liczba kopert zwrotnych, w których nie było oświadczenia o osobistym i tajnym oddaniu głosu    25433 non-null  int64 \n",
      " 20  Liczba kopert zwrotnych, w których oświadczenie nie było podpisane                             25433 non-null  int64 \n",
      " 21  Liczba kopert zwrotnych, w których nie było koperty na kartę do głosowania                     25433 non-null  int64 \n",
      " 22  Liczba kopert zwrotnych, w których znajdowała się niezaklejona koperta na kartę do głosowania  25433 non-null  int64 \n",
      " 23  Liczba kopert na kartę do głosowania wrzuconych do urny                                        25433 non-null  int64 \n",
      " 24  Liczba kart wyjętych z urny                                                                    25433 non-null  int64 \n",
      " 25  W tym liczba kart wyjętych z kopert na kartę do głosowania                                     25433 non-null  int64 \n",
      " 26  Liczba kart nieważnych                                                                         25433 non-null  int64 \n",
      " 27  Liczba kart ważnych                                                                            25433 non-null  int64 \n",
      " 28  Liczba głosów nieważnych                                                                       25433 non-null  int64 \n",
      " 29  W tym z powodu postawienia znaku „X” obok nazwiska dwóch lub większej liczby kandydatów        25433 non-null  object\n",
      " 30  W tym z powodu niepostawienia znaku „X” obok nazwiska żadnego kandydata                        25433 non-null  object\n",
      " 31  W tym z powodu postawienia znaku „X” wyłącznie obok skreślonego nazwiska kandydata             25433 non-null  object\n",
      " 32  Liczba głosów ważnych oddanych łącznie na wszystkich kandydatów                                25433 non-null  int64 \n",
      " 33  Robert BIEDROŃ                                                                                 25433 non-null  int64 \n",
      " 34  Krzysztof BOSAK                                                                                25433 non-null  int64 \n",
      " 35  Andrzej Sebastian DUDA                                                                         25433 non-null  int64 \n",
      " 36  Szymon Franciszek HOŁOWNIA                                                                     25433 non-null  int64 \n",
      " 37  Marek JAKUBIAK                                                                                 25433 non-null  int64 \n",
      " 38  Władysław Marcin KOSINIAK-KAMYSZ                                                               25433 non-null  int64 \n",
      " 39  Mirosław Mariusz PIOTROWSKI                                                                    25433 non-null  int64 \n",
      " 40  Paweł Jan TANAJNO                                                                              25433 non-null  int64 \n",
      " 41  Rafał Kazimierz TRZASKOWSKI                                                                    25433 non-null  int64 \n",
      " 42  Waldemar Włodzimierz WITKOWSKI                                                                 25433 non-null  int64 \n",
      " 43  Stanisław Józef ŻÓŁTEK                                                                         25433 non-null  int64 \n",
      " 44  turn                                                                                           25433 non-null  object\n",
      "dtypes: int64(30), object(15)\n",
      "memory usage: 8.7+ MB\n"
     ]
    }
   ],
   "source": [
    "election_1_df.info()"
   ]
  },
  {
   "cell_type": "code",
   "execution_count": 6,
   "id": "21640487",
   "metadata": {},
   "outputs": [
    {
     "name": "stdout",
     "output_type": "stream",
     "text": [
      "<class 'pandas.core.frame.DataFrame'>\n",
      "RangeIndex: 25433 entries, 0 to 25432\n",
      "Data columns (total 36 columns):\n",
      " #   Column                                                                                         Non-Null Count  Dtype \n",
      "---  ------                                                                                         --------------  ----- \n",
      " 0   Symbol kontrolny                                                                               25433 non-null  object\n",
      " 1   Nr OKW                                                                                         25433 non-null  object\n",
      " 2   Kod TERYT                                                                                      25433 non-null  object\n",
      " 3   Typ gminy                                                                                      25433 non-null  object\n",
      " 4   Numer obwodu                                                                                   25433 non-null  object\n",
      " 5   Typ obszaru                                                                                    25433 non-null  object\n",
      " 6   Typ obwodu                                                                                     25433 non-null  object\n",
      " 7   Siedziba                                                                                       25433 non-null  object\n",
      " 8   Gmina                                                                                          25433 non-null  object\n",
      " 9   Powiat                                                                                         25433 non-null  object\n",
      " 10  Województwo                                                                                    25433 non-null  object\n",
      " 11  Komisje obwodowe otrzymały kart do głosowania                                                  25433 non-null  int64 \n",
      " 12  Liczba wyborców uprawnionych do głosowania                                                     25433 non-null  int64 \n",
      " 13  Nie wykorzystano kart do głosowania                                                            25433 non-null  int64 \n",
      " 14  Liczba wyborców, którym wydano karty do głosowania                                             25433 non-null  int64 \n",
      " 15  Liczba wyborców głosujących przez pełnomocnika                                                 25433 non-null  int64 \n",
      " 16  Liczba wyborców głosujących na podstawie zaświadczenia o prawie do głosowania                  25433 non-null  int64 \n",
      " 17  Liczba wyborców, którym wysłano pakiety wyborcze                                               25433 non-null  int64 \n",
      " 18  Liczba otrzymanych kopert zwrotnych                                                            25433 non-null  int64 \n",
      " 19  Liczba kopert zwrotnych, w których nie było oświadczenia o osobistym i tajnym oddaniu głosu    25433 non-null  int64 \n",
      " 20  Liczba kopert zwrotnych, w których oświadczenie nie było podpisane                             25433 non-null  int64 \n",
      " 21  Liczba kopert zwrotnych, w których nie było koperty na kartę do głosowania                     25433 non-null  int64 \n",
      " 22  Liczba kopert zwrotnych, w których znajdowała się niezaklejona koperta na kartę do głosowania  25433 non-null  int64 \n",
      " 23  Liczba kopert na kartę do głosowania wrzuconych do urny                                        25433 non-null  int64 \n",
      " 24  Liczba kart wyjętych z urny                                                                    25433 non-null  int64 \n",
      " 25  W tym liczba kart wyjętych z kopert na kartę do głosowania                                     25433 non-null  int64 \n",
      " 26  Liczba kart nieważnych                                                                         25433 non-null  int64 \n",
      " 27  Liczba kart ważnych                                                                            25433 non-null  int64 \n",
      " 28  Liczba głosów nieważnych                                                                       25433 non-null  int64 \n",
      " 29  W tym z powodu postawienia znaku „X” obok nazwiska dwóch lub większej liczby kandydatów        25433 non-null  object\n",
      " 30  W tym z powodu niepostawienia znaku „X” obok nazwiska żadnego kandydata                        25433 non-null  object\n",
      " 31  W tym z powodu postawienia znaku „X” wyłącznie obok skreślonego nazwiska kandydata             0 non-null      object\n",
      " 32  Liczba głosów ważnych oddanych łącznie na wszystkich kandydatów                                25433 non-null  int64 \n",
      " 33  Andrzej Sebastian DUDA                                                                         25433 non-null  int64 \n",
      " 34  Rafał Kazimierz TRZASKOWSKI                                                                    25433 non-null  int64 \n",
      " 35  turn                                                                                           25433 non-null  object\n",
      "dtypes: int64(21), object(15)\n",
      "memory usage: 7.0+ MB\n"
     ]
    }
   ],
   "source": [
    "election_2_df.info()"
   ]
  },
  {
   "cell_type": "markdown",
   "id": "953bd29c",
   "metadata": {},
   "source": [
    "#### trust tee analisys"
   ]
  },
  {
   "cell_type": "code",
   "execution_count": 10,
   "id": "b5729e19",
   "metadata": {},
   "outputs": [],
   "source": [
    "trustree1 = prepare_trusttee_presence_data2020(r'..\\data\\wybory_2020\\maz_zaufania_1_tura.xlsx')\n",
    "trustree2 = prepare_trusttee_presence_data2020(r'..\\data\\wybory_2020\\maz_zaufania.xlsx')\n",
    "\n",
    "trustree1['turn'] = '1'\n",
    "trustree2['turn'] = '2'"
   ]
  },
  {
   "cell_type": "code",
   "execution_count": 11,
   "id": "415d7739",
   "metadata": {},
   "outputs": [
    {
     "name": "stdout",
     "output_type": "stream",
     "text": [
      "<class 'pandas.core.frame.DataFrame'>\n",
      "RangeIndex: 27227 entries, 0 to 27226\n",
      "Data columns (total 10 columns):\n",
      " #   Column               Non-Null Count  Dtype \n",
      "---  ------               --------------  ----- \n",
      " 0   Kod TERYT            27227 non-null  object\n",
      " 1   Numer obwodu         27227 non-null  object\n",
      " 2   Typ obwodu           27227 non-null  object\n",
      " 3   Siedziba             27227 non-null  object\n",
      " 4   Gmina                27227 non-null  object\n",
      " 5   Powiat               27227 non-null  object\n",
      " 6   Województwo          27227 non-null  object\n",
      " 7   maz_zaufania_obezny  27227 non-null  int64 \n",
      " 8   czy_maz              27227 non-null  int64 \n",
      " 9   turn                 27227 non-null  object\n",
      "dtypes: int64(2), object(8)\n",
      "memory usage: 2.1+ MB\n"
     ]
    }
   ],
   "source": [
    "trustree1.info()"
   ]
  },
  {
   "cell_type": "code",
   "execution_count": 12,
   "id": "72ee0926",
   "metadata": {},
   "outputs": [
    {
     "name": "stdout",
     "output_type": "stream",
     "text": [
      "<class 'pandas.core.frame.DataFrame'>\n",
      "RangeIndex: 27229 entries, 0 to 27228\n",
      "Data columns (total 10 columns):\n",
      " #   Column               Non-Null Count  Dtype \n",
      "---  ------               --------------  ----- \n",
      " 0   Kod TERYT            27229 non-null  object\n",
      " 1   Numer obwodu         27229 non-null  object\n",
      " 2   Typ obwodu           27229 non-null  object\n",
      " 3   Siedziba             27229 non-null  object\n",
      " 4   Gmina                27229 non-null  object\n",
      " 5   Powiat               27229 non-null  object\n",
      " 6   Województwo          27229 non-null  object\n",
      " 7   maz_zaufania_obezny  27229 non-null  int64 \n",
      " 8   czy_maz              27229 non-null  int64 \n",
      " 9   turn                 27229 non-null  object\n",
      "dtypes: int64(2), object(8)\n",
      "memory usage: 2.1+ MB\n"
     ]
    }
   ],
   "source": [
    "trustree2.info()"
   ]
  },
  {
   "cell_type": "code",
   "execution_count": 13,
   "id": "57381ae3",
   "metadata": {},
   "outputs": [],
   "source": [
    "trustree_presance_2020 = pd.concat([trustree1,trustree2],ignore_index=True)"
   ]
  },
  {
   "cell_type": "code",
   "execution_count": null,
   "id": "faeacf98",
   "metadata": {},
   "outputs": [],
   "source": []
  }
 ],
 "metadata": {
  "kernelspec": {
   "display_name": "analisys_election",
   "language": "python",
   "name": "python3"
  },
  "language_info": {
   "codemirror_mode": {
    "name": "ipython",
    "version": 3
   },
   "file_extension": ".py",
   "mimetype": "text/x-python",
   "name": "python",
   "nbconvert_exporter": "python",
   "pygments_lexer": "ipython3",
   "version": "3.13.3"
  }
 },
 "nbformat": 4,
 "nbformat_minor": 5
}
