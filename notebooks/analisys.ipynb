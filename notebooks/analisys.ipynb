{
 "cells": [
  {
   "cell_type": "code",
   "execution_count": 1,
   "id": "d32c36bf",
   "metadata": {},
   "outputs": [],
   "source": [
    "import pandas as pd\n",
    "import numpy as np\n",
    "import matplotlib.pyplot as plt\n",
    "from utils.const import DTYPES_DICT,CANDIDATES,NUM_COLUMNS  \n",
    "from utils.func import prepare_results_data2020, prepare_trusttee_presence_data2020, prepare_gus_population\n",
    "\n",
    "pd.set_option('display.max_columns', 50)"
   ]
  },
  {
   "cell_type": "markdown",
   "id": "2e15bece",
   "metadata": {},
   "source": [
    "#### election results loaded"
   ]
  },
  {
   "cell_type": "code",
   "execution_count": 2,
   "id": "a0b4a0e7",
   "metadata": {},
   "outputs": [
    {
     "name": "stderr",
     "output_type": "stream",
     "text": [
      "c:\\Users\\kgrab\\Desktop\\stacjaIT_analiza_wyborcza\\notebooks\\utils\\func.py:12: FutureWarning: Downcasting object dtype arrays on .fillna, .ffill, .bfill is deprecated and will change in a future version. Call result.infer_objects(copy=False) instead. To opt-in to the future behavior, set `pd.set_option('future.no_silent_downcasting', True)`\n",
      "  df[c].fillna(0)\n"
     ]
    }
   ],
   "source": [
    "election_1_df = prepare_results_data2020(r\"..\\data\\wybory_2020\\wyniki1tura.csv\")\n",
    "\n",
    "election_2_df = prepare_results_data2020(r\"..\\data\\wybory_2020\\wyniki2tura.csv\")\n",
    "\n",
    "election_1_df['turn'] = '1'\n",
    "election_2_df['turn'] = '2'\n",
    "\n",
    "results_2020 = pd.concat([election_1_df, election_2_df], ignore_index=True) "
   ]
  },
  {
   "cell_type": "code",
   "execution_count": 3,
   "id": "cca2ddf0",
   "metadata": {},
   "outputs": [
    {
     "name": "stdout",
     "output_type": "stream",
     "text": [
      "<class 'pandas.core.frame.DataFrame'>\n",
      "RangeIndex: 25433 entries, 0 to 25432\n",
      "Data columns (total 45 columns):\n",
      " #   Column                                                                                         Non-Null Count  Dtype \n",
      "---  ------                                                                                         --------------  ----- \n",
      " 0   Symbol kontrolny                                                                               25433 non-null  object\n",
      " 1   Nr OKW                                                                                         25433 non-null  object\n",
      " 2   Kod TERYT                                                                                      25433 non-null  object\n",
      " 3   Typ gminy                                                                                      25433 non-null  object\n",
      " 4   Numer obwodu                                                                                   25433 non-null  object\n",
      " 5   Typ obszaru                                                                                    25433 non-null  object\n",
      " 6   Typ obwodu                                                                                     25433 non-null  object\n",
      " 7   Siedziba                                                                                       25433 non-null  object\n",
      " 8   Gmina                                                                                          25433 non-null  object\n",
      " 9   Powiat                                                                                         25433 non-null  object\n",
      " 10  Województwo                                                                                    25433 non-null  object\n",
      " 11  Komisje obwodowe otrzymały kart do głosowania                                                  25433 non-null  Int64 \n",
      " 12  Liczba wyborców uprawnionych do głosowania                                                     25433 non-null  Int64 \n",
      " 13  Nie wykorzystano kart do głosowania                                                            25433 non-null  Int64 \n",
      " 14  Liczba wyborców, którym wydano karty do głosowania                                             25433 non-null  Int64 \n",
      " 15  Liczba wyborców głosujących przez pełnomocnika                                                 25433 non-null  Int64 \n",
      " 16  Liczba wyborców głosujących na podstawie zaświadczenia o prawie do głosowania                  25433 non-null  Int64 \n",
      " 17  Liczba wyborców, którym wysłano pakiety wyborcze                                               25433 non-null  Int64 \n",
      " 18  Liczba otrzymanych kopert zwrotnych                                                            25433 non-null  Int64 \n",
      " 19  Liczba kopert zwrotnych, w których nie było oświadczenia o osobistym i tajnym oddaniu głosu    25433 non-null  Int64 \n",
      " 20  Liczba kopert zwrotnych, w których oświadczenie nie było podpisane                             25433 non-null  Int64 \n",
      " 21  Liczba kopert zwrotnych, w których nie było koperty na kartę do głosowania                     25433 non-null  Int64 \n",
      " 22  Liczba kopert zwrotnych, w których znajdowała się niezaklejona koperta na kartę do głosowania  25433 non-null  Int64 \n",
      " 23  Liczba kopert na kartę do głosowania wrzuconych do urny                                        25433 non-null  Int64 \n",
      " 24  Liczba kart wyjętych z urny                                                                    25433 non-null  Int64 \n",
      " 25  W tym liczba kart wyjętych z kopert na kartę do głosowania                                     25433 non-null  Int64 \n",
      " 26  Liczba kart nieważnych                                                                         25433 non-null  Int64 \n",
      " 27  Liczba kart ważnych                                                                            25433 non-null  Int64 \n",
      " 28  Liczba głosów nieważnych                                                                       25433 non-null  Int64 \n",
      " 29  x_multi                                                                                        25433 non-null  Int64 \n",
      " 30  x_zero                                                                                         25433 non-null  Int64 \n",
      " 31  W tym z powodu postawienia znaku X wyłącznie obok skreślonego nazwiska kandydata               25433 non-null  Int64 \n",
      " 32  Liczba głosów ważnych oddanych łącznie na wszystkich kandydatów                                25433 non-null  Int64 \n",
      " 33  Robert BIEDROŃ                                                                                 25433 non-null  Int64 \n",
      " 34  Krzysztof BOSAK                                                                                25433 non-null  Int64 \n",
      " 35  Andrzej Sebastian DUDA                                                                         25433 non-null  Int64 \n",
      " 36  Szymon Franciszek HOŁOWNIA                                                                     25433 non-null  Int64 \n",
      " 37  Marek JAKUBIAK                                                                                 25433 non-null  Int64 \n",
      " 38  Władysław Marcin KOSINIAK-KAMYSZ                                                               25433 non-null  Int64 \n",
      " 39  Mirosław Mariusz PIOTROWSKI                                                                    25433 non-null  Int64 \n",
      " 40  Paweł Jan TANAJNO                                                                              25433 non-null  Int64 \n",
      " 41  Rafał Kazimierz TRZASKOWSKI                                                                    25433 non-null  Int64 \n",
      " 42  Waldemar Włodzimierz WITKOWSKI                                                                 25433 non-null  Int64 \n",
      " 43  Stanisław Józef ŻÓŁTEK                                                                         25433 non-null  Int64 \n",
      " 44  turn                                                                                           25433 non-null  object\n",
      "dtypes: Int64(33), object(12)\n",
      "memory usage: 9.5+ MB\n"
     ]
    }
   ],
   "source": [
    "election_1_df.info()"
   ]
  },
  {
   "cell_type": "code",
   "execution_count": 4,
   "id": "21640487",
   "metadata": {},
   "outputs": [
    {
     "name": "stdout",
     "output_type": "stream",
     "text": [
      "<class 'pandas.core.frame.DataFrame'>\n",
      "RangeIndex: 25433 entries, 0 to 25432\n",
      "Data columns (total 36 columns):\n",
      " #   Column                                                                                         Non-Null Count  Dtype \n",
      "---  ------                                                                                         --------------  ----- \n",
      " 0   Symbol kontrolny                                                                               25433 non-null  object\n",
      " 1   Nr OKW                                                                                         25433 non-null  object\n",
      " 2   Kod TERYT                                                                                      25433 non-null  object\n",
      " 3   Typ gminy                                                                                      25433 non-null  object\n",
      " 4   Numer obwodu                                                                                   25433 non-null  object\n",
      " 5   Typ obszaru                                                                                    25433 non-null  object\n",
      " 6   Typ obwodu                                                                                     25433 non-null  object\n",
      " 7   Siedziba                                                                                       25433 non-null  object\n",
      " 8   Gmina                                                                                          25433 non-null  object\n",
      " 9   Powiat                                                                                         25433 non-null  object\n",
      " 10  Województwo                                                                                    25433 non-null  object\n",
      " 11  Komisje obwodowe otrzymały kart do głosowania                                                  25433 non-null  Int64 \n",
      " 12  Liczba wyborców uprawnionych do głosowania                                                     25433 non-null  Int64 \n",
      " 13  Nie wykorzystano kart do głosowania                                                            25433 non-null  Int64 \n",
      " 14  Liczba wyborców, którym wydano karty do głosowania                                             25433 non-null  Int64 \n",
      " 15  Liczba wyborców głosujących przez pełnomocnika                                                 25433 non-null  Int64 \n",
      " 16  Liczba wyborców głosujących na podstawie zaświadczenia o prawie do głosowania                  25433 non-null  Int64 \n",
      " 17  Liczba wyborców, którym wysłano pakiety wyborcze                                               25433 non-null  Int64 \n",
      " 18  Liczba otrzymanych kopert zwrotnych                                                            25433 non-null  Int64 \n",
      " 19  Liczba kopert zwrotnych, w których nie było oświadczenia o osobistym i tajnym oddaniu głosu    25433 non-null  Int64 \n",
      " 20  Liczba kopert zwrotnych, w których oświadczenie nie było podpisane                             25433 non-null  Int64 \n",
      " 21  Liczba kopert zwrotnych, w których nie było koperty na kartę do głosowania                     25433 non-null  Int64 \n",
      " 22  Liczba kopert zwrotnych, w których znajdowała się niezaklejona koperta na kartę do głosowania  25433 non-null  Int64 \n",
      " 23  Liczba kopert na kartę do głosowania wrzuconych do urny                                        25433 non-null  Int64 \n",
      " 24  Liczba kart wyjętych z urny                                                                    25433 non-null  Int64 \n",
      " 25  W tym liczba kart wyjętych z kopert na kartę do głosowania                                     25433 non-null  Int64 \n",
      " 26  Liczba kart nieważnych                                                                         25433 non-null  Int64 \n",
      " 27  Liczba kart ważnych                                                                            25433 non-null  Int64 \n",
      " 28  Liczba głosów nieważnych                                                                       25433 non-null  Int64 \n",
      " 29  x_multi                                                                                        25433 non-null  Int64 \n",
      " 30  x_zero                                                                                         25433 non-null  Int64 \n",
      " 31  W tym z powodu postawienia znaku X wyłącznie obok skreślonego nazwiska kandydata               0 non-null      Int64 \n",
      " 32  Liczba głosów ważnych oddanych łącznie na wszystkich kandydatów                                25433 non-null  Int64 \n",
      " 33  Andrzej Sebastian DUDA                                                                         25433 non-null  Int64 \n",
      " 34  Rafał Kazimierz TRZASKOWSKI                                                                    25433 non-null  Int64 \n",
      " 35  turn                                                                                           25433 non-null  object\n",
      "dtypes: Int64(24), object(12)\n",
      "memory usage: 7.6+ MB\n"
     ]
    }
   ],
   "source": [
    "election_2_df.info()"
   ]
  },
  {
   "cell_type": "markdown",
   "id": "953bd29c",
   "metadata": {},
   "source": [
    "#### trust tee analisys"
   ]
  },
  {
   "cell_type": "code",
   "execution_count": 5,
   "id": "b5729e19",
   "metadata": {},
   "outputs": [],
   "source": [
    "trustree1 = prepare_trusttee_presence_data2020(r'..\\data\\wybory_2020\\maz_zaufania_1_tura.xlsx')\n",
    "trustree2 = prepare_trusttee_presence_data2020(r'..\\data\\wybory_2020\\maz_zaufania.xlsx')\n",
    "\n",
    "trustree1['turn'] = '1'\n",
    "trustree2['turn'] = '2'"
   ]
  },
  {
   "cell_type": "code",
   "execution_count": 6,
   "id": "415d7739",
   "metadata": {},
   "outputs": [
    {
     "name": "stdout",
     "output_type": "stream",
     "text": [
      "<class 'pandas.core.frame.DataFrame'>\n",
      "RangeIndex: 27227 entries, 0 to 27226\n",
      "Data columns (total 10 columns):\n",
      " #   Column               Non-Null Count  Dtype \n",
      "---  ------               --------------  ----- \n",
      " 0   Kod TERYT            27227 non-null  object\n",
      " 1   Numer obwodu         27227 non-null  object\n",
      " 2   Typ obwodu           27227 non-null  object\n",
      " 3   Siedziba             27227 non-null  object\n",
      " 4   Gmina                27227 non-null  object\n",
      " 5   Powiat               27227 non-null  object\n",
      " 6   Województwo          27227 non-null  object\n",
      " 7   maz_zaufania_obezny  27227 non-null  int64 \n",
      " 8   czy_maz              27227 non-null  int64 \n",
      " 9   turn                 27227 non-null  object\n",
      "dtypes: int64(2), object(8)\n",
      "memory usage: 2.1+ MB\n"
     ]
    }
   ],
   "source": [
    "trustree1.info()"
   ]
  },
  {
   "cell_type": "code",
   "execution_count": 7,
   "id": "72ee0926",
   "metadata": {},
   "outputs": [
    {
     "name": "stdout",
     "output_type": "stream",
     "text": [
      "<class 'pandas.core.frame.DataFrame'>\n",
      "RangeIndex: 27229 entries, 0 to 27228\n",
      "Data columns (total 10 columns):\n",
      " #   Column               Non-Null Count  Dtype \n",
      "---  ------               --------------  ----- \n",
      " 0   Kod TERYT            27229 non-null  object\n",
      " 1   Numer obwodu         27229 non-null  object\n",
      " 2   Typ obwodu           27229 non-null  object\n",
      " 3   Siedziba             27229 non-null  object\n",
      " 4   Gmina                27229 non-null  object\n",
      " 5   Powiat               27229 non-null  object\n",
      " 6   Województwo          27229 non-null  object\n",
      " 7   maz_zaufania_obezny  27229 non-null  int64 \n",
      " 8   czy_maz              27229 non-null  int64 \n",
      " 9   turn                 27229 non-null  object\n",
      "dtypes: int64(2), object(8)\n",
      "memory usage: 2.1+ MB\n"
     ]
    }
   ],
   "source": [
    "trustree2.info()"
   ]
  },
  {
   "cell_type": "code",
   "execution_count": 8,
   "id": "57381ae3",
   "metadata": {},
   "outputs": [],
   "source": [
    "trustree_presance_2020 = pd.concat([trustree1,trustree2],ignore_index=True)"
   ]
  },
  {
   "cell_type": "markdown",
   "id": "89b0441a",
   "metadata": {},
   "source": [
    "#### GUS population dataset"
   ]
  },
  {
   "cell_type": "code",
   "execution_count": 9,
   "id": "faeacf98",
   "metadata": {},
   "outputs": [
    {
     "name": "stderr",
     "output_type": "stream",
     "text": [
      "<>:1: SyntaxWarning: invalid escape sequence '\\d'\n",
      "<>:1: SyntaxWarning: invalid escape sequence '\\d'\n",
      "C:\\Users\\kgrab\\AppData\\Local\\Temp\\ipykernel_55828\\861314417.py:1: SyntaxWarning: invalid escape sequence '\\d'\n",
      "  gus_population = prepare_gus_population('..\\data\\wybory_2020\\gus_ludnosc_2020.xlsx')\n"
     ]
    },
    {
     "data": {
      "text/html": [
       "<div>\n",
       "<style scoped>\n",
       "    .dataframe tbody tr th:only-of-type {\n",
       "        vertical-align: middle;\n",
       "    }\n",
       "\n",
       "    .dataframe tbody tr th {\n",
       "        vertical-align: top;\n",
       "    }\n",
       "\n",
       "    .dataframe thead th {\n",
       "        text-align: right;\n",
       "    }\n",
       "</style>\n",
       "<table border=\"1\" class=\"dataframe\">\n",
       "  <thead>\n",
       "    <tr style=\"text-align: right;\">\n",
       "      <th></th>\n",
       "      <th>TERYT</th>\n",
       "      <th>area</th>\n",
       "      <th>population</th>\n",
       "      <th>density</th>\n",
       "    </tr>\n",
       "  </thead>\n",
       "  <tbody>\n",
       "    <tr>\n",
       "      <th>0</th>\n",
       "      <td>020101</td>\n",
       "      <td>24.0</td>\n",
       "      <td>38872.0</td>\n",
       "      <td>NaN</td>\n",
       "    </tr>\n",
       "    <tr>\n",
       "      <th>1</th>\n",
       "      <td>020102</td>\n",
       "      <td>289.0</td>\n",
       "      <td>14699.0</td>\n",
       "      <td>NaN</td>\n",
       "    </tr>\n",
       "    <tr>\n",
       "      <th>2</th>\n",
       "      <td>020103</td>\n",
       "      <td>268.0</td>\n",
       "      <td>5337.0</td>\n",
       "      <td>NaN</td>\n",
       "    </tr>\n",
       "    <tr>\n",
       "      <th>3</th>\n",
       "      <td>020105</td>\n",
       "      <td>437.0</td>\n",
       "      <td>7349.0</td>\n",
       "      <td>NaN</td>\n",
       "    </tr>\n",
       "    <tr>\n",
       "      <th>4</th>\n",
       "      <td>020106</td>\n",
       "      <td>110.0</td>\n",
       "      <td>8632.0</td>\n",
       "      <td>NaN</td>\n",
       "    </tr>\n",
       "    <tr>\n",
       "      <th>...</th>\n",
       "      <td>...</td>\n",
       "      <td>...</td>\n",
       "      <td>...</td>\n",
       "      <td>...</td>\n",
       "    </tr>\n",
       "    <tr>\n",
       "      <th>2490</th>\n",
       "      <td>321703</td>\n",
       "      <td>203.0</td>\n",
       "      <td>5402.0</td>\n",
       "      <td>NaN</td>\n",
       "    </tr>\n",
       "    <tr>\n",
       "      <th>2491</th>\n",
       "      <td>321704</td>\n",
       "      <td>250.0</td>\n",
       "      <td>4890.0</td>\n",
       "      <td>NaN</td>\n",
       "    </tr>\n",
       "    <tr>\n",
       "      <th>2492</th>\n",
       "      <td>326101</td>\n",
       "      <td>98.0</td>\n",
       "      <td>107048.0</td>\n",
       "      <td>NaN</td>\n",
       "    </tr>\n",
       "    <tr>\n",
       "      <th>2493</th>\n",
       "      <td>326201</td>\n",
       "      <td>301.0</td>\n",
       "      <td>401907.0</td>\n",
       "      <td>NaN</td>\n",
       "    </tr>\n",
       "    <tr>\n",
       "      <th>2494</th>\n",
       "      <td>326301</td>\n",
       "      <td>202.0</td>\n",
       "      <td>40888.0</td>\n",
       "      <td>NaN</td>\n",
       "    </tr>\n",
       "  </tbody>\n",
       "</table>\n",
       "<p>2495 rows × 4 columns</p>\n",
       "</div>"
      ],
      "text/plain": [
       "       TERYT   area  population  density\n",
       "0     020101   24.0     38872.0      NaN\n",
       "1     020102  289.0     14699.0      NaN\n",
       "2     020103  268.0      5337.0      NaN\n",
       "3     020105  437.0      7349.0      NaN\n",
       "4     020106  110.0      8632.0      NaN\n",
       "...      ...    ...         ...      ...\n",
       "2490  321703  203.0      5402.0      NaN\n",
       "2491  321704  250.0      4890.0      NaN\n",
       "2492  326101   98.0    107048.0      NaN\n",
       "2493  326201  301.0    401907.0      NaN\n",
       "2494  326301  202.0     40888.0      NaN\n",
       "\n",
       "[2495 rows x 4 columns]"
      ]
     },
     "execution_count": 9,
     "metadata": {},
     "output_type": "execute_result"
    }
   ],
   "source": [
    "gus_population = prepare_gus_population('..\\data\\wybory_2020\\gus_ludnosc_2020.xlsx')\n",
    "\n",
    "gus_population"
   ]
  },
  {
   "cell_type": "code",
   "execution_count": 10,
   "id": "bbe8bda8",
   "metadata": {},
   "outputs": [
    {
     "name": "stdout",
     "output_type": "stream",
     "text": [
      "<class 'pandas.core.frame.DataFrame'>\n",
      "RangeIndex: 2495 entries, 0 to 2494\n",
      "Data columns (total 4 columns):\n",
      " #   Column      Non-Null Count  Dtype  \n",
      "---  ------      --------------  -----  \n",
      " 0   TERYT       2495 non-null   object \n",
      " 1   area        2495 non-null   float64\n",
      " 2   population  2495 non-null   float64\n",
      " 3   density     0 non-null      float64\n",
      "dtypes: float64(3), object(1)\n",
      "memory usage: 78.1+ KB\n"
     ]
    }
   ],
   "source": [
    "gus_population.info()"
   ]
  },
  {
   "cell_type": "markdown",
   "id": "2f4d6868",
   "metadata": {},
   "source": [
    "#### merging data"
   ]
  },
  {
   "cell_type": "code",
   "execution_count": 11,
   "id": "62eafb96",
   "metadata": {},
   "outputs": [
    {
     "data": {
      "text/plain": [
       "(50866, 45)"
      ]
     },
     "execution_count": 11,
     "metadata": {},
     "output_type": "execute_result"
    }
   ],
   "source": [
    "results_2020.shape"
   ]
  },
  {
   "cell_type": "code",
   "execution_count": 12,
   "id": "45d0d0d5",
   "metadata": {},
   "outputs": [],
   "source": [
    "results_2020 = results_2020.merge(\n",
    "    trustree_presance_2020[['Kod TERYT','Numer obwodu','turn','czy_maz']],\n",
    "    how='left',\n",
    "    on = ['Kod TERYT','Numer obwodu','turn']\n",
    ")\\\n",
    ".merge(gus_population, how='left', left_on='Kod TERYT', right_on='TERYT')\\\n",
    ".drop('TERYT', axis=1)"
   ]
  },
  {
   "cell_type": "code",
   "execution_count": 13,
   "id": "5992fefa",
   "metadata": {},
   "outputs": [
    {
     "data": {
      "text/plain": [
       "Symbol kontrolny                                                                                 0.0\n",
       "Nr OKW                                                                                           0.0\n",
       "Kod TERYT                                                                                        0.0\n",
       "Typ gminy                                                                                        0.0\n",
       "Numer obwodu                                                                                     0.0\n",
       "Typ obszaru                                                                                      0.0\n",
       "Typ obwodu                                                                                       0.0\n",
       "Siedziba                                                                                         0.0\n",
       "Gmina                                                                                            0.0\n",
       "Powiat                                                                                           0.0\n",
       "Województwo                                                                                      0.0\n",
       "Komisje obwodowe otrzymały kart do głosowania                                                    0.0\n",
       "Liczba wyborców uprawnionych do głosowania                                                       0.0\n",
       "Nie wykorzystano kart do głosowania                                                              0.0\n",
       "Liczba wyborców, którym wydano karty do głosowania                                               0.0\n",
       "Liczba wyborców głosujących przez pełnomocnika                                                   0.0\n",
       "Liczba wyborców głosujących na podstawie zaświadczenia o prawie do głosowania                    0.0\n",
       "Liczba wyborców, którym wysłano pakiety wyborcze                                                 0.0\n",
       "Liczba otrzymanych kopert zwrotnych                                                              0.0\n",
       "Liczba kopert zwrotnych, w których nie było oświadczenia o osobistym i tajnym oddaniu głosu      0.0\n",
       "Liczba kopert zwrotnych, w których oświadczenie nie było podpisane                               0.0\n",
       "Liczba kopert zwrotnych, w których nie było koperty na kartę do głosowania                       0.0\n",
       "Liczba kopert zwrotnych, w których znajdowała się niezaklejona koperta na kartę do głosowania    0.0\n",
       "Liczba kopert na kartę do głosowania wrzuconych do urny                                          0.0\n",
       "Liczba kart wyjętych z urny                                                                      0.0\n",
       "W tym liczba kart wyjętych z kopert na kartę do głosowania                                       0.0\n",
       "Liczba kart nieważnych                                                                           0.0\n",
       "Liczba kart ważnych                                                                              0.0\n",
       "Liczba głosów nieważnych                                                                         0.0\n",
       "x_multi                                                                                          0.0\n",
       "x_zero                                                                                           0.0\n",
       "W tym z powodu postawienia znaku X wyłącznie obok skreślonego nazwiska kandydata                 0.5\n",
       "Liczba głosów ważnych oddanych łącznie na wszystkich kandydatów                                  0.0\n",
       "Robert BIEDROŃ                                                                                   0.5\n",
       "Krzysztof BOSAK                                                                                  0.5\n",
       "Andrzej Sebastian DUDA                                                                           0.0\n",
       "Szymon Franciszek HOŁOWNIA                                                                       0.5\n",
       "Marek JAKUBIAK                                                                                   0.5\n",
       "Władysław Marcin KOSINIAK-KAMYSZ                                                                 0.5\n",
       "Mirosław Mariusz PIOTROWSKI                                                                      0.5\n",
       "Paweł Jan TANAJNO                                                                                0.5\n",
       "Rafał Kazimierz TRZASKOWSKI                                                                      0.0\n",
       "Waldemar Włodzimierz WITKOWSKI                                                                   0.5\n",
       "Stanisław Józef ŻÓŁTEK                                                                           0.5\n",
       "turn                                                                                             0.0\n",
       "czy_maz                                                                                          0.0\n",
       "area                                                                                             0.0\n",
       "population                                                                                       0.0\n",
       "density                                                                                          1.0\n",
       "dtype: float64"
      ]
     },
     "execution_count": 13,
     "metadata": {},
     "output_type": "execute_result"
    }
   ],
   "source": [
    "results_2020.isna().sum() /len(results_2020)"
   ]
  },
  {
   "cell_type": "code",
   "execution_count": 14,
   "id": "cc224bfb",
   "metadata": {},
   "outputs": [],
   "source": [
    "for c in results_2020.columns:\n",
    "    if pd.api.types.is_numeric_dtype(results_2020[c]):\n",
    "        results_2020[c] = results_2020[c].fillna(0)"
   ]
  },
  {
   "cell_type": "code",
   "execution_count": 96,
   "id": "2ba5318f",
   "metadata": {},
   "outputs": [],
   "source": [
    "results_2020['frekwencja'] = results_2020['Liczba kart wyjętych z urny'] / results_2020['Liczba wyborców uprawnionych do głosowania']\n",
    "results_2020['proc_niewaznych_glosow'] =  results_2020['Liczba głosów nieważnych'] / results_2020['Liczba kart wyjętych z urny']\n",
    "\n",
    "\n",
    "results_2020['proc_niewykorz_kart'] = np.where(\n",
    "    results_2020['Komisje obwodowe otrzymały kart do głosowania'] != 0,\n",
    "    results_2020['Nie wykorzystano kart do głosowania'] / results_2020['Komisje obwodowe otrzymały kart do głosowania'],\n",
    "    0\n",
    "    )\n",
    "\n",
    "results_2020['proc_x_multi'] = results_2020['x_multi'] / results_2020['Liczba kart wyjętych z urny']\n",
    "\n",
    "results_2020['proc_odrzucenia_kopert'] = np.where(\n",
    "    results_2020['Liczba otrzymanych kopert zwrotnych'] != 0,\n",
    "\n",
    "    (results_2020 ['Liczba kopert zwrotnych, w których nie było oświadczenia o osobistym i tajnym oddaniu głosu'] + \\\n",
    "    results_2020 ['Liczba kopert zwrotnych, w których oświadczenie nie było podpisane'] + \\\n",
    "    results_2020 ['Liczba kopert zwrotnych, w których nie było koperty na kartę do głosowania']) / results_2020['Liczba otrzymanych kopert zwrotnych'],\n",
    "\n",
    "    0\n",
    "    )\n",
    "\n",
    "results_2020['populatio_category'] = pd.cut(results_2020['population'], bins = [0, 19_999, 99_999, 500_000, np.inf], labels = ['do 20k', '20k - 100k','100k - 500k', 'pow. 500k'])"
   ]
  },
  {
   "cell_type": "code",
   "execution_count": 97,
   "id": "bedac91d",
   "metadata": {},
   "outputs": [
    {
     "name": "stdout",
     "output_type": "stream",
     "text": [
      "<class 'pandas.core.frame.DataFrame'>\n",
      "RangeIndex: 50866 entries, 0 to 50865\n",
      "Data columns (total 55 columns):\n",
      " #   Column                                                                                         Non-Null Count  Dtype   \n",
      "---  ------                                                                                         --------------  -----   \n",
      " 0   Symbol kontrolny                                                                               50866 non-null  object  \n",
      " 1   Nr OKW                                                                                         50866 non-null  object  \n",
      " 2   Kod TERYT                                                                                      50866 non-null  object  \n",
      " 3   Typ gminy                                                                                      50866 non-null  object  \n",
      " 4   Numer obwodu                                                                                   50866 non-null  object  \n",
      " 5   Typ obszaru                                                                                    50866 non-null  object  \n",
      " 6   Typ obwodu                                                                                     50866 non-null  object  \n",
      " 7   Siedziba                                                                                       50866 non-null  object  \n",
      " 8   Gmina                                                                                          50866 non-null  object  \n",
      " 9   Powiat                                                                                         50866 non-null  object  \n",
      " 10  Województwo                                                                                    50866 non-null  object  \n",
      " 11  Komisje obwodowe otrzymały kart do głosowania                                                  50866 non-null  Int64   \n",
      " 12  Liczba wyborców uprawnionych do głosowania                                                     50866 non-null  Int64   \n",
      " 13  Nie wykorzystano kart do głosowania                                                            50866 non-null  Int64   \n",
      " 14  Liczba wyborców, którym wydano karty do głosowania                                             50866 non-null  Int64   \n",
      " 15  Liczba wyborców głosujących przez pełnomocnika                                                 50866 non-null  Int64   \n",
      " 16  Liczba wyborców głosujących na podstawie zaświadczenia o prawie do głosowania                  50866 non-null  Int64   \n",
      " 17  Liczba wyborców, którym wysłano pakiety wyborcze                                               50866 non-null  Int64   \n",
      " 18  Liczba otrzymanych kopert zwrotnych                                                            50866 non-null  Int64   \n",
      " 19  Liczba kopert zwrotnych, w których nie było oświadczenia o osobistym i tajnym oddaniu głosu    50866 non-null  Int64   \n",
      " 20  Liczba kopert zwrotnych, w których oświadczenie nie było podpisane                             50866 non-null  Int64   \n",
      " 21  Liczba kopert zwrotnych, w których nie było koperty na kartę do głosowania                     50866 non-null  Int64   \n",
      " 22  Liczba kopert zwrotnych, w których znajdowała się niezaklejona koperta na kartę do głosowania  50866 non-null  Int64   \n",
      " 23  Liczba kopert na kartę do głosowania wrzuconych do urny                                        50866 non-null  Int64   \n",
      " 24  Liczba kart wyjętych z urny                                                                    50866 non-null  Int64   \n",
      " 25  W tym liczba kart wyjętych z kopert na kartę do głosowania                                     50866 non-null  Int64   \n",
      " 26  Liczba kart nieważnych                                                                         50866 non-null  Int64   \n",
      " 27  Liczba kart ważnych                                                                            50866 non-null  Int64   \n",
      " 28  Liczba głosów nieważnych                                                                       50866 non-null  Int64   \n",
      " 29  x_multi                                                                                        50866 non-null  Int64   \n",
      " 30  x_zero                                                                                         50866 non-null  Int64   \n",
      " 31  W tym z powodu postawienia znaku X wyłącznie obok skreślonego nazwiska kandydata               50866 non-null  Int64   \n",
      " 32  Liczba głosów ważnych oddanych łącznie na wszystkich kandydatów                                50866 non-null  Int64   \n",
      " 33  Robert BIEDROŃ                                                                                 50866 non-null  Int64   \n",
      " 34  Krzysztof BOSAK                                                                                50866 non-null  Int64   \n",
      " 35  Andrzej Sebastian DUDA                                                                         50866 non-null  Int64   \n",
      " 36  Szymon Franciszek HOŁOWNIA                                                                     50866 non-null  Int64   \n",
      " 37  Marek JAKUBIAK                                                                                 50866 non-null  Int64   \n",
      " 38  Władysław Marcin KOSINIAK-KAMYSZ                                                               50866 non-null  Int64   \n",
      " 39  Mirosław Mariusz PIOTROWSKI                                                                    50866 non-null  Int64   \n",
      " 40  Paweł Jan TANAJNO                                                                              50866 non-null  Int64   \n",
      " 41  Rafał Kazimierz TRZASKOWSKI                                                                    50866 non-null  Int64   \n",
      " 42  Waldemar Włodzimierz WITKOWSKI                                                                 50866 non-null  Int64   \n",
      " 43  Stanisław Józef ŻÓŁTEK                                                                         50866 non-null  Int64   \n",
      " 44  turn                                                                                           50866 non-null  object  \n",
      " 45  czy_maz                                                                                        50866 non-null  int64   \n",
      " 46  area                                                                                           50866 non-null  float64 \n",
      " 47  population                                                                                     50866 non-null  float64 \n",
      " 48  density                                                                                        50866 non-null  float64 \n",
      " 49  frekwencja                                                                                     50866 non-null  Float64 \n",
      " 50  proc_niewaznych_glosow                                                                         50866 non-null  Float64 \n",
      " 51  proc_niewykorz_kart                                                                            50866 non-null  float64 \n",
      " 52  proc_x_multi                                                                                   50866 non-null  Float64 \n",
      " 53  proc_odrzucenia_kopert                                                                         50866 non-null  float64 \n",
      " 54  populatio_category                                                                             50866 non-null  category\n",
      "dtypes: Float64(3), Int64(33), category(1), float64(5), int64(1), object(12)\n",
      "memory usage: 22.8+ MB\n"
     ]
    }
   ],
   "source": [
    "results_2020.info()"
   ]
  },
  {
   "cell_type": "code",
   "execution_count": null,
   "id": "b5c57149",
   "metadata": {},
   "outputs": [],
   "source": []
  }
 ],
 "metadata": {
  "kernelspec": {
   "display_name": "analisys_election",
   "language": "python",
   "name": "python3"
  },
  "language_info": {
   "codemirror_mode": {
    "name": "ipython",
    "version": 3
   },
   "file_extension": ".py",
   "mimetype": "text/x-python",
   "name": "python",
   "nbconvert_exporter": "python",
   "pygments_lexer": "ipython3",
   "version": "3.13.3"
  }
 },
 "nbformat": 4,
 "nbformat_minor": 5
}
